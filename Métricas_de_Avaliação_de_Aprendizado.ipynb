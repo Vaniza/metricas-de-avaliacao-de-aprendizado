{
  "nbformat": 4,
  "nbformat_minor": 0,
  "metadata": {
    "colab": {
      "provenance": [],
      "authorship_tag": "ABX9TyPv1RHjHMT68hK7+oKATvLA",
      "include_colab_link": true
    },
    "kernelspec": {
      "name": "python3",
      "display_name": "Python 3"
    },
    "language_info": {
      "name": "python"
    }
  },
  "cells": [
    {
      "cell_type": "markdown",
      "metadata": {
        "id": "view-in-github",
        "colab_type": "text"
      },
      "source": [
        "<a href=\"https://colab.research.google.com/github/Vaniza/metricas-de-avaliacao-de-aprendizado/blob/main/M%C3%A9tricas_de_Avalia%C3%A7%C3%A3o_de_Aprendizado.ipynb\" target=\"_parent\"><img src=\"https://colab.research.google.com/assets/colab-badge.svg\" alt=\"Open In Colab\"/></a>"
      ]
    },
    {
      "cell_type": "code",
      "source": [
        "def calcular_metricas(VP, VN, FP, FN):\n",
        "\n",
        "    # Cálculo do total de elementos\n",
        "    N = VP + VN + FP + FN\n",
        "\n",
        "    # Cálculo das métricas conforme a tabela fornecida\n",
        "    acuracia = (VP + VN) / N if N != 0 else 0\n",
        "    precisao = VP / (VP + FP) if (VP + FP) != 0 else 0\n",
        "    sensibilidade = VP / (VP + FN) if (VP + FN) != 0 else 0\n",
        "    especificidade = VN / (FP + VN) if (FP + VN) != 0 else 0\n",
        "    f_score = 2 * (precisao * sensibilidade) / (precisao + sensibilidade) if (precisao + sensibilidade) != 0 else 0\n",
        "\n",
        "    return {\n",
        "        \"Acurácia\": round(acuracia, 4),\n",
        "        \"Precisão\": round(precisao, 4),\n",
        "        \"Sensibilidade (Recall)\": round(sensibilidade, 4),\n",
        "        \"Especificidade\": round(especificidade, 4),\n",
        "        \"F-Score\": round(f_score, 4)\n",
        "    }\n",
        "\n",
        "# Exemplo de matriz de confusão arbitrária\n",
        "VP = 85  # Verdadeiros Positivos\n",
        "VN = 90  # Verdadeiros Negativos\n",
        "FP = 10  # Falsos Positivos\n",
        "FN = 15  # Falsos Negativos\n",
        "\n",
        "# Cálculo das métricas\n",
        "metricas = calcular_metricas(VP, VN, FP, FN)\n",
        "\n",
        "# Exibir resultados\n",
        "print(\"Matriz de Confusão:\")\n",
        "print(f\"VP: {VP} | FN: {FN}\")\n",
        "print(f\"FP: {FP} | VN: {VN}\")\n",
        "print(\"\\nMétricas de Avaliação:\")\n",
        "for metrica, valor in metricas.items():\n",
        "    print(f\"{metrica}: {valor}\")"
      ],
      "metadata": {
        "colab": {
          "base_uri": "https://localhost:8080/"
        },
        "id": "V6H9zL6UAHER",
        "outputId": "334cd24a-3fde-42f0-db79-6e0b94cfacd7"
      },
      "execution_count": 4,
      "outputs": [
        {
          "output_type": "stream",
          "name": "stdout",
          "text": [
            "Matriz de Confusão:\n",
            "VP: 85 | FN: 15\n",
            "FP: 10 | VN: 90\n",
            "\n",
            "Métricas de Avaliação:\n",
            "Acurácia: 0.875\n",
            "Precisão: 0.8947\n",
            "Sensibilidade (Recall): 0.85\n",
            "Especificidade: 0.9\n",
            "F-Score: 0.8718\n"
          ]
        }
      ]
    }
  ]
}